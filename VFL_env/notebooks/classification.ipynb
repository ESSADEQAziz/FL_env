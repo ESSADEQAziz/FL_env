{
 "cells": [
  {
   "cell_type": "code",
   "execution_count": null,
   "id": "69f2f865",
   "metadata": {},
   "outputs": [],
   "source": [
    "import functions"
   ]
  },
  {
   "cell_type": "code",
   "execution_count": null,
   "id": "a1df3db6",
   "metadata": {},
   "outputs": [],
   "source": [
    "csv_paths = ['../data/node2_admissions/data.csv','../data/node1_patients/data.csv']\n",
    "original_dataframe = functions.merge_csvs_on_feature(csv_paths=csv_paths,merge_on='subject_id')"
   ]
  },
  {
   "cell_type": "code",
   "execution_count": null,
   "id": "47b5543d",
   "metadata": {},
   "outputs": [],
   "source": [
    "df = functions.analyze_dataframe(csv_path='../data/node2_admissions/data.csv')\n",
    "print(df[\"marital_status\"].value_counts(normalize=True))"
   ]
  },
  {
   "cell_type": "code",
   "execution_count": null,
   "id": "ffb57aa1",
   "metadata": {},
   "outputs": [],
   "source": [
    "functions.analyze_dataframe(original_dataframe)"
   ]
  },
  {
   "cell_type": "code",
   "execution_count": null,
   "id": "4225e073",
   "metadata": {},
   "outputs": [],
   "source": [
    "target_column = 'marital_status'\n",
    "features = ['marital_status','gender','race']\n",
    "cleaned_dataframe = functions.prepare_clean_dataset(original_dataframe,features=features)"
   ]
  },
  {
   "cell_type": "code",
   "execution_count": null,
   "id": "c9ad6b48",
   "metadata": {},
   "outputs": [],
   "source": [
    "print(cleaned_dataframe[\"marital_status\"].value_counts(normalize=True))"
   ]
  },
  {
   "cell_type": "code",
   "execution_count": null,
   "id": "235def17",
   "metadata": {},
   "outputs": [],
   "source": [
    "functions.analyze_dataframe(cleaned_dataframe)"
   ]
  },
  {
   "cell_type": "code",
   "execution_count": null,
   "id": "74ac45f8",
   "metadata": {},
   "outputs": [],
   "source": [
    "missing_rate = 0.2\n",
    "pattern = 'MCAR'\n",
    "\n",
    "data_with_missingness , original_values = functions.introduce_missingness(df=cleaned_dataframe,feature1=features[0],feature2=features[1],missing_rate=missing_rate,task=\"classification\",pattern=pattern)\n",
    "original_values"
   ]
  },
  {
   "cell_type": "code",
   "execution_count": null,
   "id": "55a3d878",
   "metadata": {},
   "outputs": [],
   "source": [
    "_ = functions.analyze_dataframe(data_with_missingness)"
   ]
  },
  {
   "cell_type": "code",
   "execution_count": null,
   "id": "96880d93",
   "metadata": {},
   "outputs": [],
   "source": [
    "predicted_dataframe = functions.return_classification_results(data_with_missingness,target='marital_status')"
   ]
  },
  {
   "cell_type": "code",
   "execution_count": null,
   "id": "f706bf14",
   "metadata": {},
   "outputs": [],
   "source": [
    "functions.get_nan_rows(predicted_dataframe,'marital_status')"
   ]
  }
 ],
 "metadata": {
  "kernelspec": {
   "display_name": "Python 3",
   "language": "python",
   "name": "python3"
  },
  "language_info": {
   "codemirror_mode": {
    "name": "ipython",
    "version": 3
   },
   "file_extension": ".py",
   "mimetype": "text/x-python",
   "name": "python",
   "nbconvert_exporter": "python",
   "pygments_lexer": "ipython3",
   "version": "3.11.9"
  }
 },
 "nbformat": 4,
 "nbformat_minor": 5
}
