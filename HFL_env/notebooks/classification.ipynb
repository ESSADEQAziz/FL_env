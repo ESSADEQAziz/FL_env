{
 "cells": [
  {
   "cell_type": "code",
   "execution_count": null,
   "id": "6f56fefa",
   "metadata": {},
   "outputs": [],
   "source": [
    "import functions"
   ]
  },
  {
   "cell_type": "code",
   "execution_count": null,
   "id": "f7cf1676",
   "metadata": {},
   "outputs": [],
   "source": [
    "csv_path = \"../data/node1/extracted_lab_results.csv\"\n",
    "original_dataframe = functions.analyze_dataframe(csv_path=csv_path)"
   ]
  },
  {
   "cell_type": "markdown",
   "id": "133917b3",
   "metadata": {},
   "source": [
    "### Evaluating relationships :\n",
    "After evaluating features relationships within the file 'explanatory_variables' using Chi-square/ANOVA to get the needed target and features for our classification task."
   ]
  },
  {
   "cell_type": "markdown",
   "id": "54687b06",
   "metadata": {},
   "source": [
    "After the evaluation of the metrices, we have a comprehensive idea about variables relationship to select appropriate features for our MAR analysis."
   ]
  },
  {
   "cell_type": "code",
   "execution_count": null,
   "id": "c365bf33",
   "metadata": {},
   "outputs": [],
   "source": [
    "target_column = \"gender\" \n",
    "features = [target_column,'creatinine','blood_glucose','anchor_age']"
   ]
  },
  {
   "cell_type": "code",
   "execution_count": null,
   "id": "0a3a9d3d",
   "metadata": {},
   "outputs": [],
   "source": [
    "\n",
    "# usually we need to clean just the target, but for the 'MAR' missing type we need other feature to be cleaned, because the missingness depend on it \n",
    "cleaned_dataframe = functions.prepare_clean_dataset(original_dataframe,features=features) "
   ]
  },
  {
   "cell_type": "code",
   "execution_count": null,
   "id": "55ac77fe",
   "metadata": {},
   "outputs": [],
   "source": [
    "missing_rate = 0.2\n",
    "pattern = 'MNAR'\n",
    "\n",
    "data_with_missingness , original_values = functions.introduce_missingness(df=cleaned_dataframe,feature1=features[0],feature2=features[1],missing_rate=missing_rate,task='classification',pattern=pattern)"
   ]
  },
  {
   "cell_type": "code",
   "execution_count": null,
   "id": "e88ac464",
   "metadata": {},
   "outputs": [],
   "source": [
    "_ = functions.analyze_dataframe(data_with_missingness)"
   ]
  },
  {
   "cell_type": "code",
   "execution_count": null,
   "id": "09e88157",
   "metadata": {},
   "outputs": [],
   "source": [
    "\n",
    "result_dataframe = functions.return_classification_results(data_with_missingness,features)"
   ]
  },
  {
   "cell_type": "code",
   "execution_count": null,
   "id": "5482ae7c",
   "metadata": {},
   "outputs": [],
   "source": [
    "functions.analyze_dataframe(result_dataframe)"
   ]
  },
  {
   "cell_type": "code",
   "execution_count": null,
   "id": "9307fed8",
   "metadata": {},
   "outputs": [],
   "source": [
    "_ = functions.benchmark_predictions(result_dataframe,original_values,features[0],task_type='classification')"
   ]
  }
 ],
 "metadata": {
  "kernelspec": {
   "display_name": "Python 3",
   "language": "python",
   "name": "python3"
  },
  "language_info": {
   "codemirror_mode": {
    "name": "ipython",
    "version": 3
   },
   "file_extension": ".py",
   "mimetype": "text/x-python",
   "name": "python",
   "nbconvert_exporter": "python",
   "pygments_lexer": "ipython3",
   "version": "3.11.9"
  }
 },
 "nbformat": 4,
 "nbformat_minor": 5
}
