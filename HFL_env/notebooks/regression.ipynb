{
 "cells": [
  {
   "cell_type": "code",
   "execution_count": 1,
   "id": "c94bfe5a",
   "metadata": {},
   "outputs": [],
   "source": [
    "import functions"
   ]
  },
  {
   "cell_type": "markdown",
   "id": "7de853fc",
   "metadata": {},
   "source": [
    "# Analyze the dataframe\n",
    "\n",
    "Get general informations about the dataframe (size/elements/types..), as well as the main metric to check 'missing rate'.\n",
    "\n",
    "### <i>purpose: Check the missingness rate of the features before introduce the benchmark (based on missingness rate/type). </i>"
   ]
  },
  {
   "cell_type": "code",
   "execution_count": null,
   "id": "fb9af5f2",
   "metadata": {},
   "outputs": [
    {
     "name": "stdout",
     "output_type": "stream",
     "text": [
      "Dataset loaded from: ../data/node1/patients.csv\n",
      "\n",
      "## DATAFRAME OVERVIEW\n",
      "----------------------------------------\n"
     ]
    },
    {
     "data": {
      "text/html": [
       "<div>\n",
       "<style scoped>\n",
       "    .dataframe tbody tr th:only-of-type {\n",
       "        vertical-align: middle;\n",
       "    }\n",
       "\n",
       "    .dataframe tbody tr th {\n",
       "        vertical-align: top;\n",
       "    }\n",
       "\n",
       "    .dataframe thead th {\n",
       "        text-align: right;\n",
       "    }\n",
       "</style>\n",
       "<table border=\"1\" class=\"dataframe\">\n",
       "  <thead>\n",
       "    <tr style=\"text-align: right;\">\n",
       "      <th></th>\n",
       "      <th>Metric</th>\n",
       "      <th>Value</th>\n",
       "    </tr>\n",
       "  </thead>\n",
       "  <tbody>\n",
       "    <tr>\n",
       "      <th>0</th>\n",
       "      <td>Rows</td>\n",
       "      <td>61348</td>\n",
       "    </tr>\n",
       "    <tr>\n",
       "      <th>1</th>\n",
       "      <td>Columns</td>\n",
       "      <td>6</td>\n",
       "    </tr>\n",
       "    <tr>\n",
       "      <th>2</th>\n",
       "      <td>Total Elements</td>\n",
       "      <td>368088</td>\n",
       "    </tr>\n",
       "    <tr>\n",
       "      <th>3</th>\n",
       "      <td>Memory Usage (MB)</td>\n",
       "      <td>10.86</td>\n",
       "    </tr>\n",
       "  </tbody>\n",
       "</table>\n",
       "</div>"
      ],
      "text/plain": [
       "              Metric   Value\n",
       "0               Rows   61348\n",
       "1            Columns       6\n",
       "2     Total Elements  368088\n",
       "3  Memory Usage (MB)   10.86"
      ]
     },
     "metadata": {},
     "output_type": "display_data"
    },
    {
     "name": "stdout",
     "output_type": "stream",
     "text": [
      "\n",
      "## COLUMN INFORMATION\n",
      "----------------------------------------\n"
     ]
    },
    {
     "data": {
      "text/html": [
       "<div>\n",
       "<style scoped>\n",
       "    .dataframe tbody tr th:only-of-type {\n",
       "        vertical-align: middle;\n",
       "    }\n",
       "\n",
       "    .dataframe tbody tr th {\n",
       "        vertical-align: top;\n",
       "    }\n",
       "\n",
       "    .dataframe thead th {\n",
       "        text-align: right;\n",
       "    }\n",
       "</style>\n",
       "<table border=\"1\" class=\"dataframe\">\n",
       "  <thead>\n",
       "    <tr style=\"text-align: right;\">\n",
       "      <th></th>\n",
       "      <th>Column</th>\n",
       "      <th>Type</th>\n",
       "      <th>Unique Values</th>\n",
       "      <th>Unique %</th>\n",
       "      <th>Missing Count</th>\n",
       "      <th>Missing %</th>\n",
       "    </tr>\n",
       "  </thead>\n",
       "  <tbody>\n",
       "    <tr>\n",
       "      <th>0</th>\n",
       "      <td>subject_id</td>\n",
       "      <td>int64</td>\n",
       "      <td>61348</td>\n",
       "      <td>100.0%</td>\n",
       "      <td>0</td>\n",
       "      <td>0.00%</td>\n",
       "    </tr>\n",
       "    <tr>\n",
       "      <th>1</th>\n",
       "      <td>gender</td>\n",
       "      <td>object</td>\n",
       "      <td>2</td>\n",
       "      <td>0.0%</td>\n",
       "      <td>0</td>\n",
       "      <td>0.00%</td>\n",
       "    </tr>\n",
       "    <tr>\n",
       "      <th>2</th>\n",
       "      <td>anchor_age</td>\n",
       "      <td>int64</td>\n",
       "      <td>73</td>\n",
       "      <td>0.1%</td>\n",
       "      <td>0</td>\n",
       "      <td>0.00%</td>\n",
       "    </tr>\n",
       "    <tr>\n",
       "      <th>3</th>\n",
       "      <td>anchor_year</td>\n",
       "      <td>int64</td>\n",
       "      <td>98</td>\n",
       "      <td>0.2%</td>\n",
       "      <td>0</td>\n",
       "      <td>0.00%</td>\n",
       "    </tr>\n",
       "    <tr>\n",
       "      <th>4</th>\n",
       "      <td>anchor_year_group</td>\n",
       "      <td>object</td>\n",
       "      <td>5</td>\n",
       "      <td>0.0%</td>\n",
       "      <td>0</td>\n",
       "      <td>0.00%</td>\n",
       "    </tr>\n",
       "    <tr>\n",
       "      <th>5</th>\n",
       "      <td>dod</td>\n",
       "      <td>object</td>\n",
       "      <td>5821</td>\n",
       "      <td>9.5%</td>\n",
       "      <td>54929</td>\n",
       "      <td>89.54%</td>\n",
       "    </tr>\n",
       "  </tbody>\n",
       "</table>\n",
       "</div>"
      ],
      "text/plain": [
       "              Column    Type  Unique Values Unique %  Missing Count Missing %\n",
       "0         subject_id   int64          61348   100.0%              0     0.00%\n",
       "1             gender  object              2     0.0%              0     0.00%\n",
       "2         anchor_age   int64             73     0.1%              0     0.00%\n",
       "3        anchor_year   int64             98     0.2%              0     0.00%\n",
       "4  anchor_year_group  object              5     0.0%              0     0.00%\n",
       "5                dod  object           5821     9.5%          54929    89.54%"
      ]
     },
     "metadata": {},
     "output_type": "display_data"
    },
    {
     "name": "stdout",
     "output_type": "stream",
     "text": [
      "\n",
      "## SAMPLE DATA (First 5 rows)\n",
      "----------------------------------------\n"
     ]
    },
    {
     "data": {
      "text/html": [
       "<div>\n",
       "<style scoped>\n",
       "    .dataframe tbody tr th:only-of-type {\n",
       "        vertical-align: middle;\n",
       "    }\n",
       "\n",
       "    .dataframe tbody tr th {\n",
       "        vertical-align: top;\n",
       "    }\n",
       "\n",
       "    .dataframe thead th {\n",
       "        text-align: right;\n",
       "    }\n",
       "</style>\n",
       "<table border=\"1\" class=\"dataframe\">\n",
       "  <thead>\n",
       "    <tr style=\"text-align: right;\">\n",
       "      <th></th>\n",
       "      <th>subject_id</th>\n",
       "      <th>gender</th>\n",
       "      <th>anchor_age</th>\n",
       "      <th>anchor_year</th>\n",
       "      <th>anchor_year_group</th>\n",
       "      <th>dod</th>\n",
       "    </tr>\n",
       "  </thead>\n",
       "  <tbody>\n",
       "    <tr>\n",
       "      <th>0</th>\n",
       "      <td>18388254</td>\n",
       "      <td>F</td>\n",
       "      <td>41</td>\n",
       "      <td>2123</td>\n",
       "      <td>2011 - 2013</td>\n",
       "      <td>NaN</td>\n",
       "    </tr>\n",
       "    <tr>\n",
       "      <th>1</th>\n",
       "      <td>12101926</td>\n",
       "      <td>F</td>\n",
       "      <td>32</td>\n",
       "      <td>2172</td>\n",
       "      <td>2008 - 2010</td>\n",
       "      <td>NaN</td>\n",
       "    </tr>\n",
       "    <tr>\n",
       "      <th>2</th>\n",
       "      <td>15811768</td>\n",
       "      <td>F</td>\n",
       "      <td>74</td>\n",
       "      <td>2187</td>\n",
       "      <td>2008 - 2010</td>\n",
       "      <td>2192-03-23</td>\n",
       "    </tr>\n",
       "    <tr>\n",
       "      <th>3</th>\n",
       "      <td>18976126</td>\n",
       "      <td>M</td>\n",
       "      <td>88</td>\n",
       "      <td>2112</td>\n",
       "      <td>2008 - 2010</td>\n",
       "      <td>NaN</td>\n",
       "    </tr>\n",
       "    <tr>\n",
       "      <th>4</th>\n",
       "      <td>10805746</td>\n",
       "      <td>F</td>\n",
       "      <td>87</td>\n",
       "      <td>2128</td>\n",
       "      <td>2008 - 2010</td>\n",
       "      <td>2135-05-15</td>\n",
       "    </tr>\n",
       "  </tbody>\n",
       "</table>\n",
       "</div>"
      ],
      "text/plain": [
       "   subject_id gender  anchor_age  anchor_year anchor_year_group         dod\n",
       "0    18388254      F          41         2123       2011 - 2013         NaN\n",
       "1    12101926      F          32         2172       2008 - 2010         NaN\n",
       "2    15811768      F          74         2187       2008 - 2010  2192-03-23\n",
       "3    18976126      M          88         2112       2008 - 2010         NaN\n",
       "4    10805746      F          87         2128       2008 - 2010  2135-05-15"
      ]
     },
     "metadata": {},
     "output_type": "display_data"
    },
    {
     "name": "stdout",
     "output_type": "stream",
     "text": [
      "\n",
      "## MISSINGNESS SUMMARY\n",
      "----------------------------------------\n",
      "Features with missing values: 1 out of 6\n",
      "Features with missing values: dod\n",
      "\n",
      "Top features with highest missingness:\n"
     ]
    },
    {
     "data": {
      "text/html": [
       "<div>\n",
       "<style scoped>\n",
       "    .dataframe tbody tr th:only-of-type {\n",
       "        vertical-align: middle;\n",
       "    }\n",
       "\n",
       "    .dataframe tbody tr th {\n",
       "        vertical-align: top;\n",
       "    }\n",
       "\n",
       "    .dataframe thead th {\n",
       "        text-align: right;\n",
       "    }\n",
       "</style>\n",
       "<table border=\"1\" class=\"dataframe\">\n",
       "  <thead>\n",
       "    <tr style=\"text-align: right;\">\n",
       "      <th></th>\n",
       "      <th>Column</th>\n",
       "      <th>Missing Count</th>\n",
       "      <th>Missing %</th>\n",
       "    </tr>\n",
       "  </thead>\n",
       "  <tbody>\n",
       "    <tr>\n",
       "      <th>5</th>\n",
       "      <td>dod</td>\n",
       "      <td>54929</td>\n",
       "      <td>89.54%</td>\n",
       "    </tr>\n",
       "    <tr>\n",
       "      <th>0</th>\n",
       "      <td>subject_id</td>\n",
       "      <td>0</td>\n",
       "      <td>0.00%</td>\n",
       "    </tr>\n",
       "    <tr>\n",
       "      <th>1</th>\n",
       "      <td>gender</td>\n",
       "      <td>0</td>\n",
       "      <td>0.00%</td>\n",
       "    </tr>\n",
       "    <tr>\n",
       "      <th>2</th>\n",
       "      <td>anchor_age</td>\n",
       "      <td>0</td>\n",
       "      <td>0.00%</td>\n",
       "    </tr>\n",
       "    <tr>\n",
       "      <th>3</th>\n",
       "      <td>anchor_year</td>\n",
       "      <td>0</td>\n",
       "      <td>0.00%</td>\n",
       "    </tr>\n",
       "    <tr>\n",
       "      <th>4</th>\n",
       "      <td>anchor_year_group</td>\n",
       "      <td>0</td>\n",
       "      <td>0.00%</td>\n",
       "    </tr>\n",
       "  </tbody>\n",
       "</table>\n",
       "</div>"
      ],
      "text/plain": [
       "              Column  Missing Count Missing %\n",
       "5                dod          54929    89.54%\n",
       "0         subject_id              0     0.00%\n",
       "1             gender              0     0.00%\n",
       "2         anchor_age              0     0.00%\n",
       "3        anchor_year              0     0.00%\n",
       "4  anchor_year_group              0     0.00%"
      ]
     },
     "metadata": {},
     "output_type": "display_data"
    }
   ],
   "source": [
    "csv_path = \"../data/node1/extracted_vital_signs.csv\"\n",
    "original_dataframe = functions.analyze_dataframe(csv_path=csv_path)"
   ]
  },
  {
   "cell_type": "markdown",
   "id": "7211243a",
   "metadata": {},
   "source": [
    "# Pruposed solution : Create a clean subset first\n",
    "This approach creates a completely clean dataset by removing all rows with missing values within the target feature:\n",
    "this gives us a clean slate with 0% missing values, then we can apply the introduce_missingness() function to this dataset with our desired missing rate also with the desired missing type, as well as benefit from the real values of missing data for evaluation and test performance.\n",
    "###### <i>RQ: <u>Usually we need just one feature to test the impuatating stategies on it, but if we apply the MAR pattern we should have other cleaned feature.</i></u>"
   ]
  },
  {
   "cell_type": "markdown",
   "id": "6e575016",
   "metadata": {},
   "source": [
    "To choose features for MAR missingness analysis, we will follow these steps:\n",
    "- Look for variables that are well-populated (few missing values) (check the previous step output)\n",
    "- Evaluate relationships by checking the correlations between potential variables. (Spearman rank correlation - Mutual Information (MI))"
   ]
  },
  {
   "cell_type": "markdown",
   "id": "cc06d9ea",
   "metadata": {},
   "source": [
    "### Evaluate relationships :\n",
    "Starting by Spearman rank correlations(not just linear), +1: Indicates a perfect positive monotonic relationship. \n",
    "-1: Indicates a perfect negative monotonic relationship. \n",
    "0: Indicates no monotonic relationship between the ranks of the two variables."
   ]
  },
  {
   "cell_type": "code",
   "execution_count": null,
   "id": "4a410e6b",
   "metadata": {},
   "outputs": [],
   "source": [
    "#Defining the target column after checking the missingness rate \n",
    "target_column = \"respiratory_rate\" \n",
    "functions.calculate_spearman_correlation(original_dataframe,target_col=target_column)"
   ]
  },
  {
   "cell_type": "markdown",
   "id": "5b8ef5c9",
   "metadata": {},
   "source": [
    "To emphasize the features choise, we will apply the Mutual Information (MI) to capture any statistical dependency, not just linear. ( I(X;Y)≥0   e.g. above 2.0 or so, though this is context-dependent) "
   ]
  },
  {
   "cell_type": "code",
   "execution_count": null,
   "id": "c77270cc",
   "metadata": {},
   "outputs": [],
   "source": [
    "functions.calculate_mutual_information(original_dataframe,target_column)"
   ]
  },
  {
   "cell_type": "markdown",
   "id": "efdb88e4",
   "metadata": {},
   "source": [
    "After the evaluation of the metrices, we have a comprehensive idea about variables relationship to select appropriate features for your MAR analysis."
   ]
  },
  {
   "cell_type": "code",
   "execution_count": null,
   "id": "55fcdd85",
   "metadata": {},
   "outputs": [],
   "source": [
    "features =[target_column,\"heart_rate\"]"
   ]
  },
  {
   "cell_type": "markdown",
   "id": "b23e9fc2",
   "metadata": {},
   "source": [
    "Clean the dataset to have a slat with 0% of missingness to test the imputation strategies based on missing rate/type . "
   ]
  },
  {
   "cell_type": "code",
   "execution_count": null,
   "id": "6e256d01",
   "metadata": {},
   "outputs": [],
   "source": [
    "cleaned_dataframe = functions.prepare_clean_dataset(original_dataframe,features=features) "
   ]
  },
  {
   "cell_type": "markdown",
   "id": "a5decf81",
   "metadata": {},
   "source": [
    "### Check the missing rates."
   ]
  },
  {
   "cell_type": "code",
   "execution_count": null,
   "id": "23dfd4d1",
   "metadata": {},
   "outputs": [],
   "source": [
    "functions.analyze_dataframe(df=cleaned_dataframe)"
   ]
  },
  {
   "cell_type": "markdown",
   "id": "ac3c138b",
   "metadata": {},
   "source": [
    "# Introduce missing values\n",
    "This step introduce the missingness within the specific feature by given the missing rate (0.1 - 0.3 - 0.5) and type (MCAR - MAR - MNAR), also returning a ground truth DataFrame containing the original values and missingness information for later evaluation. \n",
    "###### <i>RQ: <u>We need a target variable in the MAR (Missing At Random) pattern.</i></u>"
   ]
  },
  {
   "cell_type": "code",
   "execution_count": null,
   "id": "e8cdf308",
   "metadata": {},
   "outputs": [],
   "source": [
    "missing_rate = 0.2\n",
    "pattern = 'MAR'\n",
    "\n",
    "data_with_missingness , original_values = functions.introduce_missingness(df=cleaned_dataframe,feature1=features[0],feature2=features[1],missing_rate=missing_rate,task=\"regression\",pattern=pattern)"
   ]
  },
  {
   "cell_type": "markdown",
   "id": "f497aaec",
   "metadata": {},
   "source": [
    "### -> Trainning of the federated learning model\n",
    "Load the model to impute missing data . (The model is trainned based on data across nodes, using the federated learning approche) "
   ]
  },
  {
   "cell_type": "code",
   "execution_count": null,
   "id": "55d60b1c",
   "metadata": {},
   "outputs": [],
   "source": [
    "\n",
    "features = ['heart_rate','gender']\n",
    "target = \"respiratory_rate\"\n",
    "\n",
    "result_dataframe = functions.return_regression_results(data_with_missingness,features,target)"
   ]
  },
  {
   "cell_type": "code",
   "execution_count": null,
   "id": "f5b95bdc",
   "metadata": {},
   "outputs": [],
   "source": [
    "functions.get_nan_rows(result_dataframe,target)"
   ]
  },
  {
   "cell_type": "code",
   "execution_count": null,
   "id": "7f3832b0",
   "metadata": {},
   "outputs": [],
   "source": [
    "functions.benchmark_predictions(result_dataframe,original_values,target,task_type='regression')"
   ]
  }
 ],
 "metadata": {
  "kernelspec": {
   "display_name": "Python 3",
   "language": "python",
   "name": "python3"
  },
  "language_info": {
   "codemirror_mode": {
    "name": "ipython",
    "version": 3
   },
   "file_extension": ".py",
   "mimetype": "text/x-python",
   "name": "python",
   "nbconvert_exporter": "python",
   "pygments_lexer": "ipython3",
   "version": "3.11.9"
  }
 },
 "nbformat": 4,
 "nbformat_minor": 5
}
