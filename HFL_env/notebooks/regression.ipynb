{
 "cells": [
  {
   "cell_type": "code",
   "execution_count": null,
   "id": "c94bfe5a",
   "metadata": {},
   "outputs": [],
   "source": [
    "import functions"
   ]
  },
  {
   "cell_type": "markdown",
   "id": "7de853fc",
   "metadata": {},
   "source": [
    "# Analyze the dataframe\n",
    "\n",
    "Get general informations about the dataframe (size/elements/types..), as well as the main metric to check 'missing rate'.\n",
    "\n",
    "### <i>purpose: Check the missingness rate of the features before introduce the benchmark (based on missingness rate/type). </i>"
   ]
  },
  {
   "cell_type": "code",
   "execution_count": null,
   "id": "fb9af5f2",
   "metadata": {},
   "outputs": [],
   "source": [
    "csv_path = \"../data/node1/extracted_vital_signs.csv\"\n",
    "original_dataframe = functions.analyze_dataframe(csv_path=csv_path)"
   ]
  },
  {
   "cell_type": "markdown",
   "id": "7211243a",
   "metadata": {},
   "source": [
    "# Pruposed solution : Create a clean subset first\n",
    "This approach creates a completely clean dataset by removing all rows with missing values within the target feature:\n",
    "this gives us a clean slate with 0% missing values, then we can apply the introduce_missingness() function to this dataset with our desired missing rate also with the desired missing type, as well as benefit from the real values of missing data for evaluation and test performance.\n",
    "###### <i>RQ: <u>Usually we need just one feature to test the impuatating stategies on it, but if we apply the MAR pattern we should have other cleaned feature.</i></u>"
   ]
  },
  {
   "cell_type": "markdown",
   "id": "6e575016",
   "metadata": {},
   "source": [
    "To choose features for MAR missingness analysis, we will follow these steps:\n",
    "- Look for variables that are well-populated (few missing values) (check the previous step output)\n",
    "- Evaluate relationships by checking the correlations between potential variables. (Spearman rank correlation - Mutual Information (MI))"
   ]
  },
  {
   "cell_type": "markdown",
   "id": "cc06d9ea",
   "metadata": {},
   "source": [
    "### Evaluate relationships :\n",
    "Starting by Spearman rank correlations(not just linear), +1: Indicates a perfect positive monotonic relationship. \n",
    "-1: Indicates a perfect negative monotonic relationship. \n",
    "0: Indicates no monotonic relationship between the ranks of the two variables."
   ]
  },
  {
   "cell_type": "code",
   "execution_count": null,
   "id": "4a410e6b",
   "metadata": {},
   "outputs": [],
   "source": [
    "#Defining the target column after checking the missingness rate \n",
    "target_column = \"respiratory_rate\" \n",
    "functions.calculate_spearman_correlation(original_dataframe,target_col=target_column)"
   ]
  },
  {
   "cell_type": "markdown",
   "id": "5b8ef5c9",
   "metadata": {},
   "source": [
    "To emphasize the features choise, we will apply the Mutual Information (MI) to capture any statistical dependency, not just linear. ( I(X;Y)≥0   e.g. above 2.0 or so, though this is context-dependent) "
   ]
  },
  {
   "cell_type": "code",
   "execution_count": null,
   "id": "c77270cc",
   "metadata": {},
   "outputs": [],
   "source": [
    "functions.calculate_mutual_information(original_dataframe,target_column)"
   ]
  },
  {
   "cell_type": "markdown",
   "id": "efdb88e4",
   "metadata": {},
   "source": [
    "After the evaluation of the metrices, we have a comprehensive idea about variables relationship to select appropriate features for your MAR analysis."
   ]
  },
  {
   "cell_type": "code",
   "execution_count": null,
   "id": "55fcdd85",
   "metadata": {},
   "outputs": [],
   "source": [
    "features =[target_column,\"heart_rate\"]"
   ]
  },
  {
   "cell_type": "markdown",
   "id": "b23e9fc2",
   "metadata": {},
   "source": [
    "Clean the dataset to have a slat with 0% of missingness to test the imputation strategies based on missing rate/type . "
   ]
  },
  {
   "cell_type": "code",
   "execution_count": null,
   "id": "6e256d01",
   "metadata": {},
   "outputs": [],
   "source": [
    "cleaned_dataframe = functions.prepare_clean_dataset(original_dataframe,features=features) "
   ]
  },
  {
   "cell_type": "markdown",
   "id": "a5decf81",
   "metadata": {},
   "source": [
    "### Check the missing rates."
   ]
  },
  {
   "cell_type": "code",
   "execution_count": null,
   "id": "23dfd4d1",
   "metadata": {},
   "outputs": [],
   "source": [
    "functions.analyze_dataframe(df=cleaned_dataframe)"
   ]
  },
  {
   "cell_type": "markdown",
   "id": "ac3c138b",
   "metadata": {},
   "source": [
    "# Introduce missing values\n",
    "This step introduce the missingness within the specific feature by given the missing rate (0.1 - 0.3 - 0.5) and type (MCAR - MAR - MNAR), also returning a ground truth DataFrame containing the original values and missingness information for later evaluation. \n",
    "###### <i>RQ: <u>We need a target variable in the MAR (Missing At Random) pattern.</i></u>"
   ]
  },
  {
   "cell_type": "code",
   "execution_count": null,
   "id": "e8cdf308",
   "metadata": {},
   "outputs": [],
   "source": [
    "missing_rate = 0.2\n",
    "pattern = 'MAR'\n",
    "\n",
    "data_with_missingness , original_values = functions.introduce_missingness(df=cleaned_dataframe,feature1=features[0],feature2=features[1],missing_rate=missing_rate,task=\"regression\",pattern=pattern)"
   ]
  },
  {
   "cell_type": "markdown",
   "id": "f497aaec",
   "metadata": {},
   "source": [
    "### -> Trainning of the federated learning model\n",
    "Load the model to impute missing data . (The model is trainned based on data across nodes, using the federated learning approche) "
   ]
  },
  {
   "cell_type": "code",
   "execution_count": null,
   "id": "55d60b1c",
   "metadata": {},
   "outputs": [],
   "source": [
    "\n",
    "features = ['heart_rate','gender']\n",
    "target = \"respiratory_rate\"\n",
    "\n",
    "result_dataframe = functions.return_regression_results(data_with_missingness,features,target)"
   ]
  },
  {
   "cell_type": "code",
   "execution_count": null,
   "id": "f5b95bdc",
   "metadata": {},
   "outputs": [],
   "source": [
    "functions.get_nan_rows(result_dataframe,target)"
   ]
  },
  {
   "cell_type": "code",
   "execution_count": null,
   "id": "7f3832b0",
   "metadata": {},
   "outputs": [],
   "source": [
    "functions.benchmark_predictions(result_dataframe,original_values,target)"
   ]
  }
 ],
 "metadata": {
  "kernelspec": {
   "display_name": "Python 3",
   "language": "python",
   "name": "python3"
  },
  "language_info": {
   "codemirror_mode": {
    "name": "ipython",
    "version": 3
   },
   "file_extension": ".py",
   "mimetype": "text/x-python",
   "name": "python",
   "nbconvert_exporter": "python",
   "pygments_lexer": "ipython3",
   "version": "3.11.9"
  }
 },
 "nbformat": 4,
 "nbformat_minor": 5
}
