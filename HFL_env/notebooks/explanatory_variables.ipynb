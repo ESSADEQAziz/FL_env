{
 "cells": [
  {
   "cell_type": "code",
   "execution_count": null,
   "id": "39e053ce",
   "metadata": {},
   "outputs": [],
   "source": [
    "import functions"
   ]
  },
  {
   "cell_type": "markdown",
   "id": "eec3ba3e",
   "metadata": {},
   "source": [
    "# Part 1 : checking the explanatory variables for regression\n",
    "We will use the extracted vital signs table for our regression study because most variables are numerical, and we can choose one of them based on missingness or correlations.  "
   ]
  },
  {
   "cell_type": "markdown",
   "id": "0127ccf4",
   "metadata": {},
   "source": [
    "# Analyze the dataframe\n",
    "\n",
    "Get general informations about the dataframe (size/elements/types..), as well as the main metric to check 'missing rate'."
   ]
  },
  {
   "cell_type": "markdown",
   "id": "ce3176fa",
   "metadata": {},
   "source": [
    "To choose features for the FL trainning and also our MAR missingness analysis, we will follow these steps:\n",
    "- Look for variables that are well-populated (few missing values)\n",
    "- Evaluate relationships by checking the correlations between potential variables. (Spearman rank correlation - Mutual Information (MI))"
   ]
  },
  {
   "cell_type": "code",
   "execution_count": null,
   "id": "cc48cbe4",
   "metadata": {},
   "outputs": [],
   "source": [
    "csv_path = \"../data/node1/extracted_vital_signs.csv\"\n",
    "original_dataframe = functions.analyze_dataframe(csv_path=csv_path)"
   ]
  },
  {
   "cell_type": "markdown",
   "id": "6a88dcfd",
   "metadata": {},
   "source": [
    "### Evaluate relationships :\n",
    "Starting by Spearman rank correlations(not just linear), +1: Indicates a perfect positive monotonic relationship. \n",
    "-1: Indicates a perfect negative monotonic relationship. \n",
    "0: Indicates no monotonic relationship between the ranks of the two variables."
   ]
  },
  {
   "cell_type": "code",
   "execution_count": null,
   "id": "47d27764",
   "metadata": {},
   "outputs": [],
   "source": [
    "functions.calculate_spearman_correlation(original_dataframe,'respiratory_rate')"
   ]
  },
  {
   "cell_type": "code",
   "execution_count": null,
   "id": "605e7833",
   "metadata": {},
   "outputs": [],
   "source": [
    "functions.calculate_mutual_information(original_dataframe,'respiratory_rate')"
   ]
  },
  {
   "cell_type": "markdown",
   "id": "a641198f",
   "metadata": {},
   "source": [
    "## Results for regression :\n",
    "Based on the missingness and the spearman/MI analysis of all features with each other, the resuts are :\n",
    "- target column : <i>respiratory_rate</i>\n",
    "- explanatory variables : <i>heart_rate</i> and <i>anchor_age</i>"
   ]
  },
  {
   "cell_type": "markdown",
   "id": "e85ae8fb",
   "metadata": {},
   "source": [
    "# Part 2 : checking the explanatory variables for classification\n",
    "We will use the extracted vital signs table for our classification study."
   ]
  },
  {
   "cell_type": "code",
   "execution_count": null,
   "id": "84f4f1f6",
   "metadata": {},
   "outputs": [],
   "source": [
    "csv_path = \"../data/node1/admissions.csv\"\n",
    "original_dataframe = functions.analyze_dataframe(csv_path=csv_path)"
   ]
  },
  {
   "cell_type": "code",
   "execution_count": 52,
   "id": "45ec9446",
   "metadata": {},
   "outputs": [
    {
     "name": "stdout",
     "output_type": "stream",
     "text": [
      "Analyzing 15 features to identify predictors for 'insurance'\n",
      "\n",
      "=========================================== Full Analysis Results =========================================== \n",
      "                 Feature         Type        Test     Statistic        p-value  Effect Size Effect Size Name Interpretation  Significant  Strong Enough  Recommended  Low Expected Freq  Valid Observations Data Coverage\n",
      "6      admit_provider_id  categorical  Chi-square  12526.914998   0.000000e+00     0.402711       Cramer's V         Strong         True           True         True               True               11927         98.3%\n",
      "10        marital_status  categorical  Chi-square   1826.976479   0.000000e+00     0.228265       Cramer's V       Moderate         True           True         True               True               11614         95.7%\n",
      "8     discharge_location  categorical  Chi-square   1382.789786  4.680520e-261     0.196354       Cramer's V           Weak         True           True         True               True                8685         71.6%\n",
      "11                  race  categorical  Chi-square   1309.848339  5.453702e-195     0.157419       Cramer's V           Weak         True           True         True               True               11927         98.3%\n",
      "9               language  categorical  Chi-square    825.644445  1.968452e-116     0.123772       Cramer's V           Weak         True           True         True               True               11911         98.2%\n",
      "5         admission_type  categorical  Chi-square    506.043002   1.178820e-86     0.099698       Cramer's V     Negligible         True          False        False               True               11927         98.3%\n",
      "14  hospital_expire_flag  categorical  Chi-square     73.492359   4.151547e-15     0.076334       Cramer's V     Negligible         True          False        False               True               11927         98.3%\n",
      "7     admission_location  categorical  Chi-square    316.363345   1.139200e-44     0.076123       Cramer's V     Negligible         True          False        False               True               11927         98.3%\n",
      "12             edregtime  categorical  Chi-square  32884.000000   4.369894e-01     0.033097       Cramer's V     Negligible        False          False        False               True                8221         67.8%\n",
      "13             edouttime  categorical  Chi-square  32863.104665   4.630576e-01     0.024112       Cramer's V     Negligible        False          False        False               True                8221         67.8%\n",
      "3              dischtime  categorical  Chi-square  47698.470372   4.752959e-01     0.017420       Cramer's V     Negligible        False          False        False               True               11927         98.3%\n",
      "2              admittime  categorical  Chi-square  47698.470372   4.752959e-01     0.017420       Cramer's V     Negligible        False          False        False               True               11927         98.3%\n",
      "1                hadm_id    numerical       ANOVA      1.261623   2.826253e-01     0.000423      Eta squared     Negligible        False          False        False              False               11927         98.3%\n",
      "0             subject_id    numerical       ANOVA      0.162614   9.572909e-01     0.000055      Eta squared     Negligible        False          False        False              False               11927         98.3%\n",
      "4              deathtime  categorical  Chi-square    756.000000   4.624048e-01     0.000000       Cramer's V     Negligible        False          False        False               True                 252          2.1%\n",
      "\n",
      "===========================================  RECOMMENDED FEATURES FOR PREDICTING INSURANCE =========================================== \n",
      "               Feature         Type  Effect Size Effect Size Name        p-value Interpretation\n",
      "6    admit_provider_id  categorical     0.402711       Cramer's V   0.000000e+00         Strong\n",
      "10      marital_status  categorical     0.228265       Cramer's V   0.000000e+00       Moderate\n",
      "8   discharge_location  categorical     0.196354       Cramer's V  4.680520e-261           Weak\n",
      "11                race  categorical     0.157419       Cramer's V  5.453702e-195           Weak\n",
      "9             language  categorical     0.123772       Cramer's V  1.968452e-116           Weak\n"
     ]
    }
   ],
   "source": [
    "functions.identify_significant_features(original_dataframe,target_col='insurance')"
   ]
  },
  {
   "cell_type": "markdown",
   "id": "9358e093",
   "metadata": {},
   "source": [
    "## Results classification :\n",
    "Based on missingness and the Anova/chi-square analysis of all features with each other, the results are :\n",
    "- target column : <i>insurance</i>\n",
    "- explanatory variables : <i>admit_provider_id</i> and <i>marital_status</i> "
   ]
  }
 ],
 "metadata": {
  "kernelspec": {
   "display_name": "Python 3",
   "language": "python",
   "name": "python3"
  },
  "language_info": {
   "codemirror_mode": {
    "name": "ipython",
    "version": 3
   },
   "file_extension": ".py",
   "mimetype": "text/x-python",
   "name": "python",
   "nbconvert_exporter": "python",
   "pygments_lexer": "ipython3",
   "version": "3.11.9"
  }
 },
 "nbformat": 4,
 "nbformat_minor": 5
}
