{
 "cells": [
  {
   "cell_type": "code",
   "execution_count": null,
   "id": "39e053ce",
   "metadata": {},
   "outputs": [],
   "source": [
    "import functions"
   ]
  },
  {
   "cell_type": "markdown",
   "id": "eec3ba3e",
   "metadata": {},
   "source": [
    "# Part 1 : checking the explanatory variables for regression\n",
    "We will use the extracted vital signs table for our regression study because most variables are numerical, and we can choose one of them based on missingness or correlations.  "
   ]
  },
  {
   "cell_type": "markdown",
   "id": "0127ccf4",
   "metadata": {},
   "source": [
    "# Analyze the dataframe\n",
    "\n",
    "Get general informations about the dataframe (size/elements/types..), as well as the main metric to check 'missing rate'."
   ]
  },
  {
   "cell_type": "markdown",
   "id": "ce3176fa",
   "metadata": {},
   "source": [
    "To choose features for the FL trainning and also our MAR missingness analysis, we will follow these steps:\n",
    "- Look for variables that are well-populated (few missing values)\n",
    "- Evaluate relationships by checking the correlations between potential variables. (Spearman rank correlation - Mutual Information (MI))"
   ]
  },
  {
   "cell_type": "code",
   "execution_count": null,
   "id": "cc48cbe4",
   "metadata": {},
   "outputs": [],
   "source": [
    "csv_path = \"../data/node1/extracted_vital_signs.csv\"\n",
    "original_dataframe = functions.analyze_dataframe(csv_path=csv_path)"
   ]
  },
  {
   "cell_type": "markdown",
   "id": "6a88dcfd",
   "metadata": {},
   "source": [
    "### Evaluate relationships :\n",
    "Starting by Spearman rank correlations(not just linear), +1: Indicates a perfect positive monotonic relationship. \n",
    "-1: Indicates a perfect negative monotonic relationship. \n",
    "0: Indicates no monotonic relationship between the ranks of the two variables."
   ]
  },
  {
   "cell_type": "code",
   "execution_count": null,
   "id": "47d27764",
   "metadata": {},
   "outputs": [],
   "source": [
    "functions.calculate_spearman_correlation(original_dataframe,'heart_rate')"
   ]
  },
  {
   "cell_type": "code",
   "execution_count": null,
   "id": "605e7833",
   "metadata": {},
   "outputs": [],
   "source": [
    "functions.calculate_mutual_information(original_dataframe,'heart_rate')"
   ]
  },
  {
   "cell_type": "markdown",
   "id": "a641198f",
   "metadata": {},
   "source": [
    "## Results for regression :\n",
    "Based on the missingness and the spearman/MI analysis of all features with each other, the resuts are :\n",
    "- target column : <i>respiratory_rate</i>\n",
    "- explanatory variables : <i>heart_rate</i> and <i>anchor_age</i>"
   ]
  },
  {
   "cell_type": "markdown",
   "id": "e85ae8fb",
   "metadata": {},
   "source": [
    "# Part 2 : checking the explanatory variables for classification\n",
    "We will use the extracted vital signs table for our classification study."
   ]
  },
  {
   "cell_type": "code",
   "execution_count": null,
   "id": "84f4f1f6",
   "metadata": {},
   "outputs": [],
   "source": [
    "csv_path = \"../data/node1/admissions.csv\"\n",
    "original_dataframe = functions.analyze_dataframe(csv_path=csv_path)"
   ]
  },
  {
   "cell_type": "code",
   "execution_count": null,
   "id": "45ec9446",
   "metadata": {},
   "outputs": [],
   "source": [
    "functions.identify_significant_features(original_dataframe,target_col='insurance')"
   ]
  },
  {
   "cell_type": "markdown",
   "id": "9358e093",
   "metadata": {},
   "source": [
    "## Results classification :\n",
    "Based on missingness and the Anova/chi-square analysis of all features with each other, the results are :\n",
    "- target column : <i>insurance</i>\n",
    "- explanatory variables : <i>admit_provider_id</i> and <i>marital_status</i> "
   ]
  }
 ],
 "metadata": {
  "kernelspec": {
   "display_name": "Python 3",
   "language": "python",
   "name": "python3"
  },
  "language_info": {
   "codemirror_mode": {
    "name": "ipython",
    "version": 3
   },
   "file_extension": ".py",
   "mimetype": "text/x-python",
   "name": "python",
   "nbconvert_exporter": "python",
   "pygments_lexer": "ipython3",
   "version": "3.11.9"
  }
 },
 "nbformat": 4,
 "nbformat_minor": 5
}
